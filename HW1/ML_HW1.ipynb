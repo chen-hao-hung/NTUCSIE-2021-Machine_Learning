{
 "cells": [
  {
   "cell_type": "code",
   "execution_count": 1,
   "id": "afcb1d5f",
   "metadata": {},
   "outputs": [],
   "source": [
    "import matplotlib.pyplot as plt\n",
    "import numpy as np\n",
    "import pandas as pd"
   ]
  },
  {
   "cell_type": "code",
   "execution_count": 2,
   "id": "df24c5c8",
   "metadata": {},
   "outputs": [],
   "source": [
    "#read data\n",
    "path = '/Users/hungchenhao/Desktop/台大/碩二上/機器學習(林軒田)/機器學習2021/HW1/data_hw1.csv'\n",
    "data = pd.read_csv(path)\n",
    "data.columns = ['v1', 'v2', 'v3', 'v4', 'v5', 'v6', 'v7', 'v8', 'v9', 'v10', 'y']\n",
    "\n",
    "x0 = np.repeat([1], 100)\n",
    "x0 = pd.DataFrame(x0)\n",
    "x0.columns = ['v0']\n",
    "data = pd.merge(x0, data, how = 'outer', left_index = True, right_index = True)\n",
    "x = data.iloc[:, 0:11]\n",
    "y = data.iloc[:, 11]\n",
    "\n",
    "#set initial weight\n",
    "w0 = np.repeat([0], 11)\n",
    "\n",
    "del x0"
   ]
  },
  {
   "cell_type": "code",
   "execution_count": 3,
   "id": "0f117d65",
   "metadata": {},
   "outputs": [],
   "source": [
    "#random picking an example\n",
    "def random_picking():\n",
    "    result = np.random.randint(0, 100)\n",
    "    return result\n",
    "\n",
    "#sign function\n",
    "def sign(x):\n",
    "    if x > 0 :\n",
    "        result = 1\n",
    "    else:\n",
    "        result = -1\n",
    "    return result\n",
    "\n",
    "\n",
    "#check error\n",
    "def find_error(w, x, y):\n",
    "    error = 0\n",
    "    error_index = []\n",
    "    n = x.shape[0]\n",
    "    for i in range(0, n):\n",
    "        if sign(w.dot(x.iloc[i, :])) != y[i]:\n",
    "            error = error + 1\n",
    "            error_index.append(i)\n",
    "        else:\n",
    "            error = error\n",
    "    #print('total error :' + f'{i}')\n",
    "    return error_index\n",
    "            \n",
    "def pla(w, x, y):\n",
    "    while len(find_error(w, x, y)) != 0:\n",
    "        index = find_error(w, x, y)[0]\n",
    "        w = w + x.iloc[index] * y[index]\n",
    "    return w\n",
    "        "
   ]
  },
  {
   "cell_type": "code",
   "execution_count": 6,
   "id": "73f01084",
   "metadata": {},
   "outputs": [
    {
     "name": "stdout",
     "output_type": "stream",
     "text": [
      "392.50968712503067\n"
     ]
    }
   ],
   "source": [
    "#HW1-13\n",
    "t = 0\n",
    "w_squared = []\n",
    "while t < 1000:\n",
    "    w = w0\n",
    "    correct = 0\n",
    "    while correct < 500:\n",
    "        n = random_picking()\n",
    "        if sign(w.dot(x.iloc[n])) != y[n]:\n",
    "            w = w + x.iloc[n] * y[n]\n",
    "            correct = 0\n",
    "        else:\n",
    "            w = w\n",
    "            correct = correct + 1\n",
    "    w_squared.append(sum(w**2))\n",
    "    t = t + 1\n",
    "print(np.mean(w_squared))"
   ]
  },
  {
   "cell_type": "code",
   "execution_count": 7,
   "id": "24fcceff",
   "metadata": {},
   "outputs": [
    {
     "name": "stdout",
     "output_type": "stream",
     "text": [
      "1569.477025584264\n"
     ]
    }
   ],
   "source": [
    "#HW1-14\n",
    "new_x = 2 * x\n",
    "t = 0\n",
    "new_w_squared = []\n",
    "while t < 1000:\n",
    "    w = w0\n",
    "    correct = 0\n",
    "    while correct < 500:\n",
    "        n = random_picking()\n",
    "        if sign(w.dot(new_x.iloc[n])) != y[n]:\n",
    "            w = w + new_x.iloc[n] * y[n]\n",
    "            correct = 0\n",
    "        else:\n",
    "            w = w\n",
    "            correct = correct + 1\n",
    "    new_w_squared.append(sum(w**2))\n",
    "    t = t + 1\n",
    "print(np.mean(new_w_squared))"
   ]
  },
  {
   "cell_type": "code",
   "execution_count": 8,
   "id": "74d60257",
   "metadata": {},
   "outputs": [
    {
     "name": "stdout",
     "output_type": "stream",
     "text": [
      "7.127546418845394\n"
     ]
    }
   ],
   "source": [
    "#HW1-15\n",
    "#scale function\n",
    "def scale(data):\n",
    "    n = data.shape[0]\n",
    "    for i in range(0, n):\n",
    "        data.iloc[i, :] = data.iloc[i, :] / (sum(data.iloc[i, :] ** 2))**(1/2)\n",
    "    return data\n",
    "\n",
    "t = 0\n",
    "scaled_x = scale(x)\n",
    "scaled_w_squared = []\n",
    "while t < 1000:\n",
    "    w = w0\n",
    "    correct = 0\n",
    "    while correct < 500:\n",
    "        n = random_picking()\n",
    "        if sign(w.dot(scaled_x.iloc[n])) != y[n]:\n",
    "            w = w + scaled_x.iloc[n] * y[n]\n",
    "            correct = 0\n",
    "        else:\n",
    "            w = w\n",
    "            correct = correct + 1\n",
    "    scaled_w_squared.append(sum(w**2))\n",
    "    t = t + 1\n",
    "\n",
    "print(np.mean(scaled_w_squared))"
   ]
  },
  {
   "cell_type": "code",
   "execution_count": 10,
   "id": "94d287d2",
   "metadata": {},
   "outputs": [
    {
     "name": "stdout",
     "output_type": "stream",
     "text": [
      "541.1424639978393\n"
     ]
    }
   ],
   "source": [
    "#HW1-16\n",
    "path = '/Users/hungchenhao/Desktop/台大/碩二上/機器學習(林軒田)/機器學習2021/HW1/data_hw1.csv'\n",
    "data = pd.read_csv(path)\n",
    "data.columns = ['v1', 'v2', 'v3', 'v4', 'v5', 'v6', 'v7', 'v8', 'v9', 'v10', 'y']\n",
    "x0 = []\n",
    "for i in range(0, 100):\n",
    "    x0.append(0)\n",
    "    \n",
    "x0 = pd.DataFrame(x0)\n",
    "x0.columns = ['v0']\n",
    "data = pd.merge(x0, data, how = 'outer', left_index = True, right_index = True)\n",
    "x = data.iloc[:, 0:11]\n",
    "y = data.iloc[:, 11]\n",
    "\n",
    "#set initial weight\n",
    "w0 = np.array([0, 0, 0, 0, 0, 0, 0, 0, 0, 0, 0])\n",
    "\n",
    "del x0\n",
    "\n",
    "t = 0\n",
    "w_squared = []\n",
    "while t < 1000:\n",
    "    w = w0\n",
    "    correct = 0\n",
    "    while correct < 500:\n",
    "        n = random_picking()\n",
    "        if sign(w.dot(x.iloc[n])) != y[n]:\n",
    "            w = w + x.iloc[n] * y[n]\n",
    "            correct = 0\n",
    "        else:\n",
    "            w = w\n",
    "            correct = correct + 1\n",
    "    w_squared.append(sum(w**2))\n",
    "    t = t + 1\n",
    "\n",
    "print(np.mean(w_squared))"
   ]
  }
 ],
 "metadata": {
  "kernelspec": {
   "display_name": "Python 3",
   "language": "python",
   "name": "python3"
  },
  "language_info": {
   "codemirror_mode": {
    "name": "ipython",
    "version": 3
   },
   "file_extension": ".py",
   "mimetype": "text/x-python",
   "name": "python",
   "nbconvert_exporter": "python",
   "pygments_lexer": "ipython3",
   "version": "3.8.8"
  },
  "toc": {
   "base_numbering": 1,
   "nav_menu": {},
   "number_sections": true,
   "sideBar": true,
   "skip_h1_title": false,
   "title_cell": "Table of Contents",
   "title_sidebar": "Contents",
   "toc_cell": false,
   "toc_position": {},
   "toc_section_display": true,
   "toc_window_display": false
  },
  "varInspector": {
   "cols": {
    "lenName": 16,
    "lenType": 16,
    "lenVar": 40
   },
   "kernels_config": {
    "python": {
     "delete_cmd_postfix": "",
     "delete_cmd_prefix": "del ",
     "library": "var_list.py",
     "varRefreshCmd": "print(var_dic_list())"
    },
    "r": {
     "delete_cmd_postfix": ") ",
     "delete_cmd_prefix": "rm(",
     "library": "var_list.r",
     "varRefreshCmd": "cat(var_dic_list()) "
    }
   },
   "types_to_exclude": [
    "module",
    "function",
    "builtin_function_or_method",
    "instance",
    "_Feature"
   ],
   "window_display": false
  }
 },
 "nbformat": 4,
 "nbformat_minor": 5
}
